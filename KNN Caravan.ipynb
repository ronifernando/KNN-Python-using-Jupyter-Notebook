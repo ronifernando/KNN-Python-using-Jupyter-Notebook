{
 "cells": [
  {
   "cell_type": "markdown",
   "metadata": {},
   "source": [
    "<br><br>\n",
    "<hr>\n",
    "<center style=\"font-size:40px;\">Machine Learning</center>\n",
    "<br>\n",
    "<center style=\"font-size:30px;\">KNN Caravan</center>\n",
    "<hr>"
   ]
  },
  {
   "cell_type": "markdown",
   "metadata": {},
   "source": [
    "#### RONI FERNANDO 14/365951/PA/16166 \n",
    "#### GHIFFARI AGSARYA ARLIN 14/364209/PA/15944 \n",
    "#### PRABU FARHAN N J 14/365902/PA/16160 \n",
    "#### MUAMMAR KHADAFI 15/378067/PA/16542 "
   ]
  },
  {
   "cell_type": "markdown",
   "metadata": {},
   "source": [
    "<br>\n",
    "# Inisiasi\n",
    "<hr>\n",
    "Menggunakan pandas dan numpy"
   ]
  },
  {
   "cell_type": "code",
   "execution_count": 1,
   "metadata": {},
   "outputs": [],
   "source": [
    "import pandas as pd\n",
    "import numpy as np"
   ]
  },
  {
   "cell_type": "markdown",
   "metadata": {},
   "source": [
    "<br>\n",
    "# Membuka file CSV\n",
    "<hr>"
   ]
  },
  {
   "cell_type": "code",
   "execution_count": 2,
   "metadata": {},
   "outputs": [
    {
     "data": {
      "text/html": [
       "<div>\n",
       "<style scoped>\n",
       "    .dataframe tbody tr th:only-of-type {\n",
       "        vertical-align: middle;\n",
       "    }\n",
       "\n",
       "    .dataframe tbody tr th {\n",
       "        vertical-align: top;\n",
       "    }\n",
       "\n",
       "    .dataframe thead th {\n",
       "        text-align: right;\n",
       "    }\n",
       "</style>\n",
       "<table border=\"1\" class=\"dataframe\">\n",
       "  <thead>\n",
       "    <tr style=\"text-align: right;\">\n",
       "      <th></th>\n",
       "      <th>Unnamed: 0</th>\n",
       "      <th>MOSTYPE</th>\n",
       "      <th>MAANTHUI</th>\n",
       "      <th>MGEMOMV</th>\n",
       "      <th>MGEMLEEF</th>\n",
       "      <th>MOSHOOFD</th>\n",
       "      <th>MGODRK</th>\n",
       "      <th>MGODPR</th>\n",
       "      <th>MGODOV</th>\n",
       "      <th>MGODGE</th>\n",
       "      <th>...</th>\n",
       "      <th>APERSONG</th>\n",
       "      <th>AGEZONG</th>\n",
       "      <th>AWAOREG</th>\n",
       "      <th>ABRAND</th>\n",
       "      <th>AZEILPL</th>\n",
       "      <th>APLEZIER</th>\n",
       "      <th>AFIETS</th>\n",
       "      <th>AINBOED</th>\n",
       "      <th>ABYSTAND</th>\n",
       "      <th>Purchase</th>\n",
       "    </tr>\n",
       "  </thead>\n",
       "  <tbody>\n",
       "    <tr>\n",
       "      <th>0</th>\n",
       "      <td>1</td>\n",
       "      <td>33</td>\n",
       "      <td>1</td>\n",
       "      <td>3</td>\n",
       "      <td>2</td>\n",
       "      <td>8</td>\n",
       "      <td>0</td>\n",
       "      <td>5</td>\n",
       "      <td>1</td>\n",
       "      <td>3</td>\n",
       "      <td>...</td>\n",
       "      <td>0</td>\n",
       "      <td>0</td>\n",
       "      <td>0</td>\n",
       "      <td>1</td>\n",
       "      <td>0</td>\n",
       "      <td>0</td>\n",
       "      <td>0</td>\n",
       "      <td>0</td>\n",
       "      <td>0</td>\n",
       "      <td>No</td>\n",
       "    </tr>\n",
       "    <tr>\n",
       "      <th>1</th>\n",
       "      <td>2</td>\n",
       "      <td>37</td>\n",
       "      <td>1</td>\n",
       "      <td>2</td>\n",
       "      <td>2</td>\n",
       "      <td>8</td>\n",
       "      <td>1</td>\n",
       "      <td>4</td>\n",
       "      <td>1</td>\n",
       "      <td>4</td>\n",
       "      <td>...</td>\n",
       "      <td>0</td>\n",
       "      <td>0</td>\n",
       "      <td>0</td>\n",
       "      <td>1</td>\n",
       "      <td>0</td>\n",
       "      <td>0</td>\n",
       "      <td>0</td>\n",
       "      <td>0</td>\n",
       "      <td>0</td>\n",
       "      <td>No</td>\n",
       "    </tr>\n",
       "    <tr>\n",
       "      <th>2</th>\n",
       "      <td>3</td>\n",
       "      <td>37</td>\n",
       "      <td>1</td>\n",
       "      <td>2</td>\n",
       "      <td>2</td>\n",
       "      <td>8</td>\n",
       "      <td>0</td>\n",
       "      <td>4</td>\n",
       "      <td>2</td>\n",
       "      <td>4</td>\n",
       "      <td>...</td>\n",
       "      <td>0</td>\n",
       "      <td>0</td>\n",
       "      <td>0</td>\n",
       "      <td>1</td>\n",
       "      <td>0</td>\n",
       "      <td>0</td>\n",
       "      <td>0</td>\n",
       "      <td>0</td>\n",
       "      <td>0</td>\n",
       "      <td>No</td>\n",
       "    </tr>\n",
       "    <tr>\n",
       "      <th>3</th>\n",
       "      <td>4</td>\n",
       "      <td>9</td>\n",
       "      <td>1</td>\n",
       "      <td>3</td>\n",
       "      <td>3</td>\n",
       "      <td>3</td>\n",
       "      <td>2</td>\n",
       "      <td>3</td>\n",
       "      <td>2</td>\n",
       "      <td>4</td>\n",
       "      <td>...</td>\n",
       "      <td>0</td>\n",
       "      <td>0</td>\n",
       "      <td>0</td>\n",
       "      <td>1</td>\n",
       "      <td>0</td>\n",
       "      <td>0</td>\n",
       "      <td>0</td>\n",
       "      <td>0</td>\n",
       "      <td>0</td>\n",
       "      <td>No</td>\n",
       "    </tr>\n",
       "    <tr>\n",
       "      <th>4</th>\n",
       "      <td>5</td>\n",
       "      <td>40</td>\n",
       "      <td>1</td>\n",
       "      <td>4</td>\n",
       "      <td>2</td>\n",
       "      <td>10</td>\n",
       "      <td>1</td>\n",
       "      <td>4</td>\n",
       "      <td>1</td>\n",
       "      <td>4</td>\n",
       "      <td>...</td>\n",
       "      <td>0</td>\n",
       "      <td>0</td>\n",
       "      <td>0</td>\n",
       "      <td>1</td>\n",
       "      <td>0</td>\n",
       "      <td>0</td>\n",
       "      <td>0</td>\n",
       "      <td>0</td>\n",
       "      <td>0</td>\n",
       "      <td>No</td>\n",
       "    </tr>\n",
       "  </tbody>\n",
       "</table>\n",
       "<p>5 rows × 87 columns</p>\n",
       "</div>"
      ],
      "text/plain": [
       "   Unnamed: 0  MOSTYPE  MAANTHUI  MGEMOMV  MGEMLEEF  MOSHOOFD  MGODRK  MGODPR  \\\n",
       "0           1       33         1        3         2         8       0       5   \n",
       "1           2       37         1        2         2         8       1       4   \n",
       "2           3       37         1        2         2         8       0       4   \n",
       "3           4        9         1        3         3         3       2       3   \n",
       "4           5       40         1        4         2        10       1       4   \n",
       "\n",
       "   MGODOV  MGODGE    ...     APERSONG  AGEZONG  AWAOREG  ABRAND  AZEILPL  \\\n",
       "0       1       3    ...            0        0        0       1        0   \n",
       "1       1       4    ...            0        0        0       1        0   \n",
       "2       2       4    ...            0        0        0       1        0   \n",
       "3       2       4    ...            0        0        0       1        0   \n",
       "4       1       4    ...            0        0        0       1        0   \n",
       "\n",
       "   APLEZIER  AFIETS  AINBOED  ABYSTAND  Purchase  \n",
       "0         0       0        0         0        No  \n",
       "1         0       0        0         0        No  \n",
       "2         0       0        0         0        No  \n",
       "3         0       0        0         0        No  \n",
       "4         0       0        0         0        No  \n",
       "\n",
       "[5 rows x 87 columns]"
      ]
     },
     "execution_count": 2,
     "metadata": {},
     "output_type": "execute_result"
    }
   ],
   "source": [
    "df = pd.read_csv('C:/Users/EGT - Roni Fernando/Documents/Jupyter/caravan.csv')\n",
    "df[\"Purchase\"].value_counts()\n",
    "df.head(5)"
   ]
  },
  {
   "cell_type": "markdown",
   "metadata": {},
   "source": [
    "<br>\n",
    "# Tanpa Standarisasi\n",
    "## Membagi data 80% training dan 20% Test \n",
    "<hr>"
   ]
  },
  {
   "cell_type": "code",
   "execution_count": 3,
   "metadata": {},
   "outputs": [
    {
     "name": "stderr",
     "output_type": "stream",
     "text": [
      "C:\\Anaconda3\\lib\\site-packages\\sklearn\\cross_validation.py:41: DeprecationWarning: This module was deprecated in version 0.18 in favor of the model_selection module into which all the refactored classes and functions are moved. Also note that the interface of the new CV iterators are different from that of this module. This module will be removed in 0.20.\n",
      "  \"This module will be removed in 0.20.\", DeprecationWarning)\n"
     ]
    }
   ],
   "source": [
    "from sklearn.cross_validation import train_test_split\n",
    "X = np.array(df.iloc[:,1:-1]) \n",
    "y = np.array(df['Purchase']) \n",
    "\n",
    "X_train, X_test, y_train, y_test = train_test_split(X, y, test_size=0.2, random_state=42)"
   ]
  },
  {
   "cell_type": "markdown",
   "metadata": {},
   "source": [
    "<br>\n",
    "## Mencari nilai akurasi K=1,...,10\n",
    "<hr>"
   ]
  },
  {
   "cell_type": "code",
   "execution_count": 4,
   "metadata": {},
   "outputs": [
    {
     "name": "stdout",
     "output_type": "stream",
     "text": [
      "1\n",
      "Accuracy = 0.88240\n",
      "2\n",
      "Accuracy = 0.92876\n",
      "3\n",
      "Accuracy = 0.92361\n",
      "4\n",
      "Accuracy = 0.93047\n",
      "5\n",
      "Accuracy = 0.92961\n",
      "6\n",
      "Accuracy = 0.93047\n",
      "7\n",
      "Accuracy = 0.92961\n",
      "8\n",
      "Accuracy = 0.93047\n",
      "9\n",
      "Accuracy = 0.93047\n",
      "10\n",
      "Accuracy = 0.93047\n"
     ]
    }
   ],
   "source": [
    "from sklearn import neighbors\n",
    "from sklearn.metrics import confusion_matrix, classification_report\n",
    "from sklearn.neighbors import KNeighborsClassifier\n",
    "from sklearn.metrics import accuracy_score\n",
    "\n",
    "myList = list(range(1,11))\n",
    "neighbors = filter(lambda x: x != 0, myList)\n",
    "cek = []\n",
    "listakurasi = []\n",
    "\n",
    "for k in neighbors:\n",
    "    knn = KNeighborsClassifier(n_neighbors=k)\n",
    "    pred = knn.fit(X_train, y_train).predict(X_test)\n",
    "    from sklearn.metrics import accuracy_score\n",
    "    print(k)\n",
    "    print (\"Accuracy = %.5f\" % (accuracy_score(y_test, pred)))\n",
    "    \n",
    "    listakurasi.append(accuracy_score(y_test, pred))"
   ]
  },
  {
   "cell_type": "markdown",
   "metadata": {},
   "source": [
    "<br>\n",
    "## Membuat grafik dari nilai akurasi\n",
    "<hr>"
   ]
  },
  {
   "cell_type": "code",
   "execution_count": 5,
   "metadata": {},
   "outputs": [
    {
     "data": {
      "text/plain": [
       "<matplotlib.figure.Figure at 0x2abbf4c0cc0>"
      ]
     },
     "metadata": {},
     "output_type": "display_data"
    },
    {
     "name": "stdout",
     "output_type": "stream",
     "text": [
      "[0.8824034334763948, 0.9287553648068669, 0.9236051502145923, 0.9304721030042918, 0.9296137339055794, 0.9304721030042918, 0.9296137339055794, 0.9304721030042918, 0.9304721030042918, 0.9304721030042918]\n"
     ]
    }
   ],
   "source": [
    "import matplotlib.pyplot as plt\n",
    "\n",
    "plt.plot(np.append(np.roll(listakurasi,1),listakurasi[9]),'ro', color='r', linewidth=1.0, label=\"Graph2\")\n",
    "plt.axis([1, 10, 0.5,1])\n",
    "plt.xlabel('K')\n",
    "plt.ylabel('Akurasi')\n",
    "\n",
    "plt.grid()\n",
    "plt.show()\n",
    "\n",
    "print(listakurasi)\n"
   ]
  },
  {
   "cell_type": "markdown",
   "metadata": {},
   "source": [
    "<br>\n",
    "# Dengan Standarisasi\n",
    "## Membagi data 80% training dan 20% Test \n",
    "<hr>"
   ]
  },
  {
   "cell_type": "code",
   "execution_count": 6,
   "metadata": {},
   "outputs": [],
   "source": [
    "from sklearn import preprocessing\n",
    "X = np.array(df.iloc[:,1:-1]).astype('float64')\n",
    "y = np.array(df['Purchase'])\n",
    "X_scaled = preprocessing.scale(X)\n",
    "\n",
    "X_train, X_test, y_train, y_test = train_test_split(X_scaled, y, test_size=0.2, random_state=42)"
   ]
  },
  {
   "cell_type": "markdown",
   "metadata": {},
   "source": [
    "<br>\n",
    "## Mencari nilai akurasi K=1,...,10\n",
    "<hr>"
   ]
  },
  {
   "cell_type": "code",
   "execution_count": 7,
   "metadata": {},
   "outputs": [
    {
     "name": "stdout",
     "output_type": "stream",
     "text": [
      "1\n",
      "Accuracy = 0.88069\n",
      "2\n",
      "Accuracy = 0.92446\n",
      "3\n",
      "Accuracy = 0.91502\n",
      "4\n",
      "Accuracy = 0.92790\n",
      "5\n",
      "Accuracy = 0.92446\n",
      "6\n",
      "Accuracy = 0.93047\n",
      "7\n",
      "Accuracy = 0.93047\n",
      "8\n",
      "Accuracy = 0.93047\n",
      "9\n",
      "Accuracy = 0.92876\n",
      "10\n",
      "Accuracy = 0.92961\n"
     ]
    }
   ],
   "source": [
    "myList = list(range(1,11))\n",
    "neighbors = filter(lambda x: x != 0, myList)\n",
    "listakurasib = []\n",
    "\n",
    "for k in neighbors:\n",
    "    knn = KNeighborsClassifier(n_neighbors=k)\n",
    "    pred = knn.fit(X_train, y_train).predict(X_test)\n",
    "    from sklearn.metrics import accuracy_score\n",
    "    print(k)\n",
    "    print (\"Accuracy = %.5f\" % (accuracy_score(y_test, pred)))\n",
    "    listakurasib.append(accuracy_score(y_test, pred))\n",
    "    \n"
   ]
  },
  {
   "cell_type": "markdown",
   "metadata": {},
   "source": [
    "<br>\n",
    "## Membuat grafik dari nilai akurasi\n",
    "<hr>"
   ]
  },
  {
   "cell_type": "code",
   "execution_count": 15,
   "metadata": {},
   "outputs": [
    {
     "data": {
      "image/png": "[encoded data removed]",
      "text/plain": [
       "<matplotlib.figure.Figure at 0x2abc1996198>"
      ]
     },
     "metadata": {},
     "output_type": "display_data"
    },
    {
     "name": "stdout",
     "output_type": "stream",
     "text": [
      "[0.8806866952789699, 0.9244635193133047, 0.9150214592274678, 0.9278969957081545, 0.9244635193133047, 0.9304721030042918, 0.9304721030042918, 0.9304721030042918, 0.9287553648068669, 0.9296137339055794]\n"
     ]
    }
   ],
   "source": [
    "plt.plot(np.append(np.roll(listakurasib,1),listakurasib[9]),'ro', color='r', linewidth=1.0, label=\"Graph2\")\n",
    "plt.axis([1, 10, 0.5, 1])\n",
    "plt.xlabel('K')\n",
    "plt.ylabel('Akurasi')\n",
    "\n",
    "plt.grid()\n",
    "plt.show()\n",
    "\n",
    "print(listakurasib)"
   ]
  },
  {
   "cell_type": "markdown",
   "metadata": {},
   "source": [
    "<br>\n",
    "## Membuat grafik perbandingan nilai akurasi <a style=\"color:red;\">tanpa standarisasi</h1> dan <div style=\"color:blue;\">dengan standarisasi</div>\n",
    "<hr>"
   ]
  },
  {
   "cell_type": "code",
   "execution_count": 39,
   "metadata": {},
   "outputs": [
    {
     "data": {
      "image/png": "[encoded data removed]",
      "text/plain": [
       "<matplotlib.figure.Figure at 0x2abc209cf60>"
      ]
     },
     "metadata": {},
     "output_type": "display_data"
    }
   ],
   "source": [
    "plt.plot(cek, listakurasi,'ro', color='r', linewidth=0.5, label=\"Graph2\")\n",
    "plt.plot(cek, listakurasib,'ro', color='b', linewidth=0.5, label=\"Graph2\")\n",
    "plt.axis([0, 10, 0.85, 0.95])\n",
    "plt.xlabel('K')\n",
    "plt.ylabel('Akurasi')\n",
    "plt.grid()\n",
    "plt.show()"
   ]
  },
  {
   "cell_type": "markdown",
   "metadata": {},
   "source": [
    "<hr>\n",
    "Visit : <a href=\"https://github.com/ronifernando/KNN-Python-using-Jupyter-Notebook\">https://github.com/ronifernando/KNN-Python-using-Jupyter-Notebook</a>"
   ]
  },
  {
   "cell_type": "markdown",
   "metadata": {},
   "source": []
  }
 ],
 "metadata": {
  "kernelspec": {
   "display_name": "Python 3",
   "language": "python",
   "name": "python3"
  },
  "language_info": {
   "codemirror_mode": {
    "name": "ipython",
    "version": 3
   },
   "file_extension": ".py",
   "mimetype": "text/x-python",
   "name": "python",
   "nbconvert_exporter": "python",
   "pygments_lexer": "ipython3",
   "version": "3.6.4"
  }
 },
 "nbformat": 4,
 "nbformat_minor": 2
}
